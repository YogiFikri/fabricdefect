{
 "cells": [
  {
   "cell_type": "markdown",
   "metadata": {},
   "source": [
    "# 1. Import Dependencies"
   ]
  },
  {
   "cell_type": "code",
   "execution_count": 8,
   "metadata": {
    "scrolled": true
   },
   "outputs": [
    {
     "name": "stdout",
     "output_type": "stream",
     "text": [
      "Requirement already satisfied: opencv-python in ./tfod/lib/python3.10/site-packages (4.8.0.74)\n",
      "Requirement already satisfied: numpy>=1.21.2 in ./tfod/lib/python3.10/site-packages (from opencv-python) (1.24.3)\n",
      "\n",
      "\u001b[1m[\u001b[0m\u001b[34;49mnotice\u001b[0m\u001b[1;39;49m]\u001b[0m\u001b[39;49m A new release of pip is available: \u001b[0m\u001b[31;49m23.1.2\u001b[0m\u001b[39;49m -> \u001b[0m\u001b[32;49m23.2.1\u001b[0m\n",
      "\u001b[1m[\u001b[0m\u001b[34;49mnotice\u001b[0m\u001b[1;39;49m]\u001b[0m\u001b[39;49m To update, run: \u001b[0m\u001b[32;49mpip install --upgrade pip\u001b[0m\n"
     ]
    }
   ],
   "source": [
    "!pip3 install opencv-python"
   ]
  },
  {
   "cell_type": "code",
   "execution_count": 12,
   "metadata": {},
   "outputs": [],
   "source": [
    "# Import opencv\n",
    "import cv2 \n",
    "\n",
    "# Import uuid\n",
    "import uuid\n",
    "\n",
    "# Import Operating System\n",
    "import os\n",
    "\n",
    "# Import time\n",
    "import time"
   ]
  },
  {
   "cell_type": "markdown",
   "metadata": {},
   "source": [
    "# 2. Define Images to Collect"
   ]
  },
  {
   "cell_type": "code",
   "execution_count": 13,
   "metadata": {},
   "outputs": [],
   "source": [
    "labels = ['Strain', 'Hole', 'Torn', 'Scratch']\n",
    "number_imgs = 8"
   ]
  },
  {
   "cell_type": "markdown",
   "metadata": {},
   "source": [
    "# 3. Setup Folders "
   ]
  },
  {
   "cell_type": "code",
   "execution_count": 14,
   "metadata": {},
   "outputs": [],
   "source": [
    "IMAGES_PATH = os.path.join('Tensorflow', 'workspace', 'images', 'collectedimages')"
   ]
  },
  {
   "cell_type": "code",
   "execution_count": 15,
   "metadata": {},
   "outputs": [],
   "source": [
    "if not os.path.exists(IMAGES_PATH):\n",
    "    if os.name == 'posix':\n",
    "        !mkdir -p {IMAGES_PATH}\n",
    "    if os.name == 'nt':\n",
    "         !mkdir {IMAGES_PATH}\n",
    "for label in labels:\n",
    "    path = os.path.join(IMAGES_PATH, label)\n",
    "    if not os.path.exists(path):\n",
    "        !mkdir {path}"
   ]
  },
  {
   "cell_type": "markdown",
   "metadata": {},
   "source": [
    "# 4. Capture Images"
   ]
  },
  {
   "cell_type": "code",
   "execution_count": 16,
   "metadata": {
    "scrolled": true
   },
   "outputs": [
    {
     "name": "stdout",
     "output_type": "stream",
     "text": [
      "Collecting images for Strain\n",
      "Collecting image 0\n",
      "Collecting image 1\n",
      "Collecting image 2\n",
      "Collecting image 3\n",
      "Collecting image 4\n",
      "Collecting image 5\n",
      "Collecting image 6\n"
     ]
    },
    {
     "ename": "KeyboardInterrupt",
     "evalue": "",
     "output_type": "error",
     "traceback": [
      "\u001b[0;31m---------------------------------------------------------------------------\u001b[0m",
      "\u001b[0;31mKeyboardInterrupt\u001b[0m                         Traceback (most recent call last)",
      "Cell \u001b[0;32mIn[16], line 11\u001b[0m\n\u001b[1;32m      9\u001b[0m cv2\u001b[38;5;241m.\u001b[39mimwrite(imgname, frame)\n\u001b[1;32m     10\u001b[0m cv2\u001b[38;5;241m.\u001b[39mimshow(\u001b[38;5;124m'\u001b[39m\u001b[38;5;124mframe\u001b[39m\u001b[38;5;124m'\u001b[39m, frame)\n\u001b[0;32m---> 11\u001b[0m \u001b[43mtime\u001b[49m\u001b[38;5;241;43m.\u001b[39;49m\u001b[43msleep\u001b[49m\u001b[43m(\u001b[49m\u001b[38;5;241;43m2\u001b[39;49m\u001b[43m)\u001b[49m\n\u001b[1;32m     13\u001b[0m \u001b[38;5;28;01mif\u001b[39;00m cv2\u001b[38;5;241m.\u001b[39mwaitKey(\u001b[38;5;241m1\u001b[39m) \u001b[38;5;241m&\u001b[39m \u001b[38;5;241m0xFF\u001b[39m \u001b[38;5;241m==\u001b[39m \u001b[38;5;28mord\u001b[39m(\u001b[38;5;124m'\u001b[39m\u001b[38;5;124mq\u001b[39m\u001b[38;5;124m'\u001b[39m):\n\u001b[1;32m     14\u001b[0m     \u001b[38;5;28;01mbreak\u001b[39;00m\n",
      "\u001b[0;31mKeyboardInterrupt\u001b[0m: "
     ]
    }
   ],
   "source": [
    "for label in labels:\n",
    "    cap = cv2.VideoCapture(0)\n",
    "    print('Collecting images for {}'.format(label))\n",
    "    time.sleep(5)\n",
    "    for imgnum in range(number_imgs):\n",
    "        print('Collecting image {}'.format(imgnum))\n",
    "        ret, frame = cap.read()\n",
    "        imgname = os.path.join(IMAGES_PATH,label,label+'.'+'{}.jpg'.format(str(uuid.uuid1())))\n",
    "        cv2.imwrite(imgname, frame)\n",
    "        cv2.imshow('frame', frame)\n",
    "        time.sleep(2)\n",
    "\n",
    "        if cv2.waitKey(1) & 0xFF == ord('q'):\n",
    "            break\n",
    "cap.release()\n",
    "cv2.destroyAllWindows()"
   ]
  },
  {
   "cell_type": "markdown",
   "metadata": {},
   "source": [
    "# 5. Image Labelling"
   ]
  },
  {
   "cell_type": "code",
   "execution_count": 2,
   "metadata": {
    "scrolled": false
   },
   "outputs": [
    {
     "name": "stdout",
     "output_type": "stream",
     "text": [
      "Requirement already satisfied: pyqt5 in ./tfod/lib/python3.10/site-packages (5.15.9)\n",
      "Requirement already satisfied: lxml in ./tfod/lib/python3.10/site-packages (4.9.3)\n",
      "Requirement already satisfied: PyQt5-sip<13,>=12.11 in ./tfod/lib/python3.10/site-packages (from pyqt5) (12.12.1)\n",
      "Requirement already satisfied: PyQt5-Qt5>=5.15.2 in ./tfod/lib/python3.10/site-packages (from pyqt5) (5.15.2)\n",
      "\n",
      "\u001b[1m[\u001b[0m\u001b[34;49mnotice\u001b[0m\u001b[1;39;49m]\u001b[0m\u001b[39;49m A new release of pip is available: \u001b[0m\u001b[31;49m23.1.2\u001b[0m\u001b[39;49m -> \u001b[0m\u001b[32;49m23.2.1\u001b[0m\n",
      "\u001b[1m[\u001b[0m\u001b[34;49mnotice\u001b[0m\u001b[1;39;49m]\u001b[0m\u001b[39;49m To update, run: \u001b[0m\u001b[32;49mpip install --upgrade pip\u001b[0m\n"
     ]
    }
   ],
   "source": [
    "!pip3 install --upgrade pyqt5 lxml"
   ]
  },
  {
   "cell_type": "code",
   "execution_count": 2,
   "metadata": {
    "scrolled": false
   },
   "outputs": [
    {
     "name": "stdout",
     "output_type": "stream",
     "text": [
      "Package           Version\r\n",
      "----------------- --------\r\n",
      "appnope           0.1.3\r\n",
      "asttokens         2.2.1\r\n",
      "backcall          0.2.0\r\n",
      "comm              0.1.3\r\n",
      "debugpy           1.6.7\r\n",
      "decorator         5.1.1\r\n",
      "executing         1.2.0\r\n",
      "ipykernel         6.24.0\r\n",
      "ipython           8.14.0\r\n",
      "jedi              0.18.2\r\n",
      "jupyter_client    8.3.0\r\n",
      "jupyter_core      5.3.1\r\n",
      "lxml              4.9.3\r\n",
      "matplotlib-inline 0.1.6\r\n",
      "nest-asyncio      1.5.6\r\n",
      "numpy             1.25.1\r\n",
      "opencv-python     4.8.0.74\r\n",
      "packaging         23.1\r\n",
      "parso             0.8.3\r\n",
      "pexpect           4.8.0\r\n",
      "pickleshare       0.7.5\r\n",
      "pip               23.1.2\r\n",
      "platformdirs      3.8.1\r\n",
      "prompt-toolkit    3.0.39\r\n",
      "psutil            5.9.5\r\n",
      "ptyprocess        0.7.0\r\n",
      "pure-eval         0.2.2\r\n",
      "Pygments          2.15.1\r\n",
      "PyQt5             5.15.9\r\n",
      "PyQt5-Qt5         5.15.2\r\n",
      "PyQt5-sip         12.12.1\r\n",
      "python-dateutil   2.8.2\r\n",
      "pyzmq             25.1.0\r\n",
      "setuptools        65.5.0\r\n",
      "six               1.16.0\r\n",
      "stack-data        0.6.2\r\n",
      "tornado           6.3.2\r\n",
      "traitlets         5.9.0\r\n",
      "wcwidth           0.2.6\r\n"
     ]
    }
   ],
   "source": [
    "!pip3 list"
   ]
  },
  {
   "cell_type": "code",
   "execution_count": 3,
   "metadata": {
    "scrolled": false
   },
   "outputs": [],
   "source": [
    "LABELIMG_PATH = os.path.join('Tensorflow', 'labelimg')"
   ]
  },
  {
   "cell_type": "code",
   "execution_count": 4,
   "metadata": {},
   "outputs": [],
   "source": [
    "if not os.path.exists(LABELIMG_PATH):\n",
    "    !mkdir {LABELIMG_PATH}\n",
    "    !git clone https://github.com/tzutalin/labelImg {LABELIMG_PATH}"
   ]
  },
  {
   "cell_type": "code",
   "execution_count": 5,
   "metadata": {},
   "outputs": [
    {
     "name": "stdout",
     "output_type": "stream",
     "text": [
      "pyrcc5 -o libs/resources.py resources.qrc\r\n"
     ]
    }
   ],
   "source": [
    "if os.name == 'posix':\n",
    "    !cd {LABELIMG_PATH} && make qt5py3\n",
    "if os.name =='nt':\n",
    "    !cd {LABELIMG_PATH} && pyrcc5 -o libs/resources.py resources.qrc"
   ]
  },
  {
   "cell_type": "code",
   "execution_count": 6,
   "metadata": {
    "scrolled": true
   },
   "outputs": [
    {
     "name": "stdout",
     "output_type": "stream",
     "text": [
      "2023-08-23 15:31:01.399 python3[2731:112194] +[CATransaction synchronize] called within transaction\n",
      "2023-08-23 15:31:01.497 python3[2731:112194] +[CATransaction synchronize] called within transaction\n",
      "Image:/Users/yogi/Documents/Object Detection/TFODCourse/Tensorflow/workspace/images/collectedimages/Torn/a_augmented_0.jpg -> Annotation:/Users/yogi/Documents/Object Detection/TFODCourse/Tensorflow/workspace/images/collectedimages/Torn/a_augmented_0.xml\n",
      "Image:/Users/yogi/Documents/Object Detection/TFODCourse/Tensorflow/workspace/images/collectedimages/Torn/a_augmented_0.jpg -> Annotation:/Users/yogi/Documents/Object Detection/TFODCourse/Tensorflow/workspace/images/collectedimages/Torn/a_augmented_0.xml\n",
      "Image:/Users/yogi/Documents/Object Detection/TFODCourse/Tensorflow/workspace/images/collectedimages/Torn/a_augmented_1.jpg -> Annotation:/Users/yogi/Documents/Object Detection/TFODCourse/Tensorflow/workspace/images/collectedimages/Torn/a_augmented_1.xml\n",
      "Image:/Users/yogi/Documents/Object Detection/TFODCourse/Tensorflow/workspace/images/collectedimages/Torn/a_augmented_2.jpg -> Annotation:/Users/yogi/Documents/Object Detection/TFODCourse/Tensorflow/workspace/images/collectedimages/Torn/a_augmented_2.xml\n",
      "Image:/Users/yogi/Documents/Object Detection/TFODCourse/Tensorflow/workspace/images/collectedimages/Torn/aa_augmented_0.jpg -> Annotation:/Users/yogi/Documents/Object Detection/TFODCourse/Tensorflow/workspace/images/collectedimages/Torn/aa_augmented_0.xml\n",
      "Image:/Users/yogi/Documents/Object Detection/TFODCourse/Tensorflow/workspace/images/collectedimages/Torn/aa_augmented_1.jpg -> Annotation:/Users/yogi/Documents/Object Detection/TFODCourse/Tensorflow/workspace/images/collectedimages/Torn/aa_augmented_1.xml\n",
      "Image:/Users/yogi/Documents/Object Detection/TFODCourse/Tensorflow/workspace/images/collectedimages/Torn/aa_augmented_2.jpg -> Annotation:/Users/yogi/Documents/Object Detection/TFODCourse/Tensorflow/workspace/images/collectedimages/Torn/aa_augmented_2.xml\n",
      "Image:/Users/yogi/Documents/Object Detection/TFODCourse/Tensorflow/workspace/images/collectedimages/Torn/ab_augmented_0.jpg -> Annotation:/Users/yogi/Documents/Object Detection/TFODCourse/Tensorflow/workspace/images/collectedimages/Torn/ab_augmented_0.xml\n",
      "Image:/Users/yogi/Documents/Object Detection/TFODCourse/Tensorflow/workspace/images/collectedimages/Torn/ab_augmented_1.jpg -> Annotation:/Users/yogi/Documents/Object Detection/TFODCourse/Tensorflow/workspace/images/collectedimages/Torn/ab_augmented_1.xml\n",
      "Image:/Users/yogi/Documents/Object Detection/TFODCourse/Tensorflow/workspace/images/collectedimages/Torn/ab_augmented_2.jpg -> Annotation:/Users/yogi/Documents/Object Detection/TFODCourse/Tensorflow/workspace/images/collectedimages/Torn/ab_augmented_2.xml\n",
      "Image:/Users/yogi/Documents/Object Detection/TFODCourse/Tensorflow/workspace/images/collectedimages/Torn/ac_augmented_0.jpg -> Annotation:/Users/yogi/Documents/Object Detection/TFODCourse/Tensorflow/workspace/images/collectedimages/Torn/ac_augmented_0.xml\n",
      "Image:/Users/yogi/Documents/Object Detection/TFODCourse/Tensorflow/workspace/images/collectedimages/Torn/ac_augmented_1.jpg -> Annotation:/Users/yogi/Documents/Object Detection/TFODCourse/Tensorflow/workspace/images/collectedimages/Torn/ac_augmented_1.xml\n",
      "Image:/Users/yogi/Documents/Object Detection/TFODCourse/Tensorflow/workspace/images/collectedimages/Torn/ac_augmented_2.jpg -> Annotation:/Users/yogi/Documents/Object Detection/TFODCourse/Tensorflow/workspace/images/collectedimages/Torn/ac_augmented_2.xml\n",
      "Image:/Users/yogi/Documents/Object Detection/TFODCourse/Tensorflow/workspace/images/collectedimages/Torn/ad_augmented_0.jpg -> Annotation:/Users/yogi/Documents/Object Detection/TFODCourse/Tensorflow/workspace/images/collectedimages/Torn/ad_augmented_0.xml\n",
      "Image:/Users/yogi/Documents/Object Detection/TFODCourse/Tensorflow/workspace/images/collectedimages/Torn/ad_augmented_1.jpg -> Annotation:/Users/yogi/Documents/Object Detection/TFODCourse/Tensorflow/workspace/images/collectedimages/Torn/ad_augmented_1.xml\n",
      "Image:/Users/yogi/Documents/Object Detection/TFODCourse/Tensorflow/workspace/images/collectedimages/Torn/ad_augmented_2.jpg -> Annotation:/Users/yogi/Documents/Object Detection/TFODCourse/Tensorflow/workspace/images/collectedimages/Torn/ad_augmented_2.xml\n",
      "Image:/Users/yogi/Documents/Object Detection/TFODCourse/Tensorflow/workspace/images/collectedimages/Torn/ae_augmented_0.jpg -> Annotation:/Users/yogi/Documents/Object Detection/TFODCourse/Tensorflow/workspace/images/collectedimages/Torn/ae_augmented_0.xml\n",
      "Image:/Users/yogi/Documents/Object Detection/TFODCourse/Tensorflow/workspace/images/collectedimages/Torn/ae_augmented_1.jpg -> Annotation:/Users/yogi/Documents/Object Detection/TFODCourse/Tensorflow/workspace/images/collectedimages/Torn/ae_augmented_1.xml\n",
      "Image:/Users/yogi/Documents/Object Detection/TFODCourse/Tensorflow/workspace/images/collectedimages/Torn/ae_augmented_2.jpg -> Annotation:/Users/yogi/Documents/Object Detection/TFODCourse/Tensorflow/workspace/images/collectedimages/Torn/ae_augmented_2.xml\n",
      "Image:/Users/yogi/Documents/Object Detection/TFODCourse/Tensorflow/workspace/images/collectedimages/Torn/af_augmented_0.jpg -> Annotation:/Users/yogi/Documents/Object Detection/TFODCourse/Tensorflow/workspace/images/collectedimages/Torn/af_augmented_0.xml\n",
      "Image:/Users/yogi/Documents/Object Detection/TFODCourse/Tensorflow/workspace/images/collectedimages/Torn/af_augmented_1.jpg -> Annotation:/Users/yogi/Documents/Object Detection/TFODCourse/Tensorflow/workspace/images/collectedimages/Torn/af_augmented_1.xml\n",
      "Image:/Users/yogi/Documents/Object Detection/TFODCourse/Tensorflow/workspace/images/collectedimages/Torn/af_augmented_2.jpg -> Annotation:/Users/yogi/Documents/Object Detection/TFODCourse/Tensorflow/workspace/images/collectedimages/Torn/af_augmented_2.xml\n",
      "Image:/Users/yogi/Documents/Object Detection/TFODCourse/Tensorflow/workspace/images/collectedimages/Torn/b_augmented_0.jpg -> Annotation:/Users/yogi/Documents/Object Detection/TFODCourse/Tensorflow/workspace/images/collectedimages/Torn/b_augmented_0.xml\n",
      "Image:/Users/yogi/Documents/Object Detection/TFODCourse/Tensorflow/workspace/images/collectedimages/Torn/b_augmented_1.jpg -> Annotation:/Users/yogi/Documents/Object Detection/TFODCourse/Tensorflow/workspace/images/collectedimages/Torn/b_augmented_1.xml\n",
      "Image:/Users/yogi/Documents/Object Detection/TFODCourse/Tensorflow/workspace/images/collectedimages/Torn/b_augmented_2.jpg -> Annotation:/Users/yogi/Documents/Object Detection/TFODCourse/Tensorflow/workspace/images/collectedimages/Torn/b_augmented_2.xml\n",
      "Image:/Users/yogi/Documents/Object Detection/TFODCourse/Tensorflow/workspace/images/collectedimages/Torn/c_augmented_0.jpg -> Annotation:/Users/yogi/Documents/Object Detection/TFODCourse/Tensorflow/workspace/images/collectedimages/Torn/c_augmented_0.xml\n",
      "Image:/Users/yogi/Documents/Object Detection/TFODCourse/Tensorflow/workspace/images/collectedimages/Torn/c_augmented_1.jpg -> Annotation:/Users/yogi/Documents/Object Detection/TFODCourse/Tensorflow/workspace/images/collectedimages/Torn/c_augmented_1.xml\n",
      "Image:/Users/yogi/Documents/Object Detection/TFODCourse/Tensorflow/workspace/images/collectedimages/Torn/c_augmented_2.jpg -> Annotation:/Users/yogi/Documents/Object Detection/TFODCourse/Tensorflow/workspace/images/collectedimages/Torn/c_augmented_2.xml\n",
      "Image:/Users/yogi/Documents/Object Detection/TFODCourse/Tensorflow/workspace/images/collectedimages/Torn/d_augmented_0.jpg -> Annotation:/Users/yogi/Documents/Object Detection/TFODCourse/Tensorflow/workspace/images/collectedimages/Torn/d_augmented_0.xml\n",
      "Image:/Users/yogi/Documents/Object Detection/TFODCourse/Tensorflow/workspace/images/collectedimages/Torn/d_augmented_1.jpg -> Annotation:/Users/yogi/Documents/Object Detection/TFODCourse/Tensorflow/workspace/images/collectedimages/Torn/d_augmented_1.xml\n",
      "Image:/Users/yogi/Documents/Object Detection/TFODCourse/Tensorflow/workspace/images/collectedimages/Torn/d_augmented_2.jpg -> Annotation:/Users/yogi/Documents/Object Detection/TFODCourse/Tensorflow/workspace/images/collectedimages/Torn/d_augmented_2.xml\n",
      "Image:/Users/yogi/Documents/Object Detection/TFODCourse/Tensorflow/workspace/images/collectedimages/Torn/e_augmented_0.jpg -> Annotation:/Users/yogi/Documents/Object Detection/TFODCourse/Tensorflow/workspace/images/collectedimages/Torn/e_augmented_0.xml\n"
     ]
    },
    {
     "name": "stdout",
     "output_type": "stream",
     "text": [
      "Image:/Users/yogi/Documents/Object Detection/TFODCourse/Tensorflow/workspace/images/collectedimages/Torn/e_augmented_1.jpg -> Annotation:/Users/yogi/Documents/Object Detection/TFODCourse/Tensorflow/workspace/images/collectedimages/Torn/e_augmented_1.xml\n",
      "Image:/Users/yogi/Documents/Object Detection/TFODCourse/Tensorflow/workspace/images/collectedimages/Torn/e_augmented_2.jpg -> Annotation:/Users/yogi/Documents/Object Detection/TFODCourse/Tensorflow/workspace/images/collectedimages/Torn/e_augmented_2.xml\n",
      "Image:/Users/yogi/Documents/Object Detection/TFODCourse/Tensorflow/workspace/images/collectedimages/Torn/f_augmented_0.jpg -> Annotation:/Users/yogi/Documents/Object Detection/TFODCourse/Tensorflow/workspace/images/collectedimages/Torn/f_augmented_0.xml\n",
      "Image:/Users/yogi/Documents/Object Detection/TFODCourse/Tensorflow/workspace/images/collectedimages/Torn/f_augmented_1.jpg -> Annotation:/Users/yogi/Documents/Object Detection/TFODCourse/Tensorflow/workspace/images/collectedimages/Torn/f_augmented_1.xml\n",
      "Image:/Users/yogi/Documents/Object Detection/TFODCourse/Tensorflow/workspace/images/collectedimages/Torn/f_augmented_2.jpg -> Annotation:/Users/yogi/Documents/Object Detection/TFODCourse/Tensorflow/workspace/images/collectedimages/Torn/f_augmented_2.xml\n",
      "Image:/Users/yogi/Documents/Object Detection/TFODCourse/Tensorflow/workspace/images/collectedimages/Torn/g_augmented_0.jpg -> Annotation:/Users/yogi/Documents/Object Detection/TFODCourse/Tensorflow/workspace/images/collectedimages/Torn/g_augmented_0.xml\n",
      "Image:/Users/yogi/Documents/Object Detection/TFODCourse/Tensorflow/workspace/images/collectedimages/Torn/g_augmented_1.jpg -> Annotation:/Users/yogi/Documents/Object Detection/TFODCourse/Tensorflow/workspace/images/collectedimages/Torn/g_augmented_1.xml\n",
      "Image:/Users/yogi/Documents/Object Detection/TFODCourse/Tensorflow/workspace/images/collectedimages/Torn/g_augmented_2.jpg -> Annotation:/Users/yogi/Documents/Object Detection/TFODCourse/Tensorflow/workspace/images/collectedimages/Torn/g_augmented_2.xml\n",
      "Image:/Users/yogi/Documents/Object Detection/TFODCourse/Tensorflow/workspace/images/collectedimages/Torn/h_augmented_0.jpg -> Annotation:/Users/yogi/Documents/Object Detection/TFODCourse/Tensorflow/workspace/images/collectedimages/Torn/h_augmented_0.xml\n",
      "Image:/Users/yogi/Documents/Object Detection/TFODCourse/Tensorflow/workspace/images/collectedimages/Torn/h_augmented_1.jpg -> Annotation:/Users/yogi/Documents/Object Detection/TFODCourse/Tensorflow/workspace/images/collectedimages/Torn/h_augmented_1.xml\n",
      "Image:/Users/yogi/Documents/Object Detection/TFODCourse/Tensorflow/workspace/images/collectedimages/Torn/h_augmented_2.jpg -> Annotation:/Users/yogi/Documents/Object Detection/TFODCourse/Tensorflow/workspace/images/collectedimages/Torn/h_augmented_2.xml\n",
      "Image:/Users/yogi/Documents/Object Detection/TFODCourse/Tensorflow/workspace/images/collectedimages/Torn/i_augmented_0.jpg -> Annotation:/Users/yogi/Documents/Object Detection/TFODCourse/Tensorflow/workspace/images/collectedimages/Torn/i_augmented_0.xml\n",
      "Image:/Users/yogi/Documents/Object Detection/TFODCourse/Tensorflow/workspace/images/collectedimages/Torn/i_augmented_1.jpg -> Annotation:/Users/yogi/Documents/Object Detection/TFODCourse/Tensorflow/workspace/images/collectedimages/Torn/i_augmented_1.xml\n",
      "Image:/Users/yogi/Documents/Object Detection/TFODCourse/Tensorflow/workspace/images/collectedimages/Torn/i_augmented_2.jpg -> Annotation:/Users/yogi/Documents/Object Detection/TFODCourse/Tensorflow/workspace/images/collectedimages/Torn/i_augmented_2.xml\n",
      "Image:/Users/yogi/Documents/Object Detection/TFODCourse/Tensorflow/workspace/images/collectedimages/Torn/j_augmented_1.jpg -> Annotation:/Users/yogi/Documents/Object Detection/TFODCourse/Tensorflow/workspace/images/collectedimages/Torn/j_augmented_1.xml\n",
      "Image:/Users/yogi/Documents/Object Detection/TFODCourse/Tensorflow/workspace/images/collectedimages/Torn/j_augmented_2.jpg -> Annotation:/Users/yogi/Documents/Object Detection/TFODCourse/Tensorflow/workspace/images/collectedimages/Torn/j_augmented_2.xml\n",
      "Image:/Users/yogi/Documents/Object Detection/TFODCourse/Tensorflow/workspace/images/collectedimages/Torn/k_augmented_0.jpg -> Annotation:/Users/yogi/Documents/Object Detection/TFODCourse/Tensorflow/workspace/images/collectedimages/Torn/k_augmented_0.xml\n",
      "Image:/Users/yogi/Documents/Object Detection/TFODCourse/Tensorflow/workspace/images/collectedimages/Torn/k_augmented_1.jpg -> Annotation:/Users/yogi/Documents/Object Detection/TFODCourse/Tensorflow/workspace/images/collectedimages/Torn/k_augmented_1.xml\n",
      "Image:/Users/yogi/Documents/Object Detection/TFODCourse/Tensorflow/workspace/images/collectedimages/Torn/k_augmented_2.jpg -> Annotation:/Users/yogi/Documents/Object Detection/TFODCourse/Tensorflow/workspace/images/collectedimages/Torn/k_augmented_2.xml\n",
      "Image:/Users/yogi/Documents/Object Detection/TFODCourse/Tensorflow/workspace/images/collectedimages/Torn/l_augmented_0.jpg -> Annotation:/Users/yogi/Documents/Object Detection/TFODCourse/Tensorflow/workspace/images/collectedimages/Torn/l_augmented_0.xml\n",
      "Image:/Users/yogi/Documents/Object Detection/TFODCourse/Tensorflow/workspace/images/collectedimages/Torn/l_augmented_1.jpg -> Annotation:/Users/yogi/Documents/Object Detection/TFODCourse/Tensorflow/workspace/images/collectedimages/Torn/l_augmented_1.xml\n",
      "Image:/Users/yogi/Documents/Object Detection/TFODCourse/Tensorflow/workspace/images/collectedimages/Torn/l_augmented_2.jpg -> Annotation:/Users/yogi/Documents/Object Detection/TFODCourse/Tensorflow/workspace/images/collectedimages/Torn/l_augmented_2.xml\n",
      "Image:/Users/yogi/Documents/Object Detection/TFODCourse/Tensorflow/workspace/images/collectedimages/Torn/m_augmented_0.jpg -> Annotation:/Users/yogi/Documents/Object Detection/TFODCourse/Tensorflow/workspace/images/collectedimages/Torn/m_augmented_0.xml\n",
      "Image:/Users/yogi/Documents/Object Detection/TFODCourse/Tensorflow/workspace/images/collectedimages/Torn/m_augmented_1.jpg -> Annotation:/Users/yogi/Documents/Object Detection/TFODCourse/Tensorflow/workspace/images/collectedimages/Torn/m_augmented_1.xml\n",
      "Image:/Users/yogi/Documents/Object Detection/TFODCourse/Tensorflow/workspace/images/collectedimages/Torn/m_augmented_2.jpg -> Annotation:/Users/yogi/Documents/Object Detection/TFODCourse/Tensorflow/workspace/images/collectedimages/Torn/m_augmented_2.xml\n",
      "Image:/Users/yogi/Documents/Object Detection/TFODCourse/Tensorflow/workspace/images/collectedimages/Torn/n_augmented_0.jpg -> Annotation:/Users/yogi/Documents/Object Detection/TFODCourse/Tensorflow/workspace/images/collectedimages/Torn/n_augmented_0.xml\n",
      "Image:/Users/yogi/Documents/Object Detection/TFODCourse/Tensorflow/workspace/images/collectedimages/Torn/m_augmented_2.jpg -> Annotation:/Users/yogi/Documents/Object Detection/TFODCourse/Tensorflow/workspace/images/collectedimages/Torn/m_augmented_2.xml\n",
      "Image:/Users/yogi/Documents/Object Detection/TFODCourse/Tensorflow/workspace/images/collectedimages/Torn/n_augmented_0.jpg -> Annotation:/Users/yogi/Documents/Object Detection/TFODCourse/Tensorflow/workspace/images/collectedimages/Torn/n_augmented_0.xml\n",
      "Image:/Users/yogi/Documents/Object Detection/TFODCourse/Tensorflow/workspace/images/collectedimages/Torn/n_augmented_1.jpg -> Annotation:/Users/yogi/Documents/Object Detection/TFODCourse/Tensorflow/workspace/images/collectedimages/Torn/n_augmented_1.xml\n",
      "Image:/Users/yogi/Documents/Object Detection/TFODCourse/Tensorflow/workspace/images/collectedimages/Torn/n_augmented_2.jpg -> Annotation:/Users/yogi/Documents/Object Detection/TFODCourse/Tensorflow/workspace/images/collectedimages/Torn/n_augmented_2.xml\n",
      "Image:/Users/yogi/Documents/Object Detection/TFODCourse/Tensorflow/workspace/images/collectedimages/Torn/o_augmented_0.jpg -> Annotation:/Users/yogi/Documents/Object Detection/TFODCourse/Tensorflow/workspace/images/collectedimages/Torn/o_augmented_0.xml\n",
      "Image:/Users/yogi/Documents/Object Detection/TFODCourse/Tensorflow/workspace/images/collectedimages/Torn/o_augmented_1.jpg -> Annotation:/Users/yogi/Documents/Object Detection/TFODCourse/Tensorflow/workspace/images/collectedimages/Torn/o_augmented_1.xml\n",
      "Image:/Users/yogi/Documents/Object Detection/TFODCourse/Tensorflow/workspace/images/collectedimages/Torn/o_augmented_2.jpg -> Annotation:/Users/yogi/Documents/Object Detection/TFODCourse/Tensorflow/workspace/images/collectedimages/Torn/o_augmented_2.xml\n"
     ]
    },
    {
     "name": "stdout",
     "output_type": "stream",
     "text": [
      "Image:/Users/yogi/Documents/Object Detection/TFODCourse/Tensorflow/workspace/images/collectedimages/Torn/q_augmented_0.jpg -> Annotation:/Users/yogi/Documents/Object Detection/TFODCourse/Tensorflow/workspace/images/collectedimages/Torn/q_augmented_0.xml\n",
      "Image:/Users/yogi/Documents/Object Detection/TFODCourse/Tensorflow/workspace/images/collectedimages/Torn/q_augmented_1.jpg -> Annotation:/Users/yogi/Documents/Object Detection/TFODCourse/Tensorflow/workspace/images/collectedimages/Torn/q_augmented_1.xml\n",
      "Image:/Users/yogi/Documents/Object Detection/TFODCourse/Tensorflow/workspace/images/collectedimages/Torn/q_augmented_1.jpg -> Annotation:/Users/yogi/Documents/Object Detection/TFODCourse/Tensorflow/workspace/images/collectedimages/Torn/q_augmented_1.xml\n",
      "Image:/Users/yogi/Documents/Object Detection/TFODCourse/Tensorflow/workspace/images/collectedimages/Torn/q_augmented_2.jpg -> Annotation:/Users/yogi/Documents/Object Detection/TFODCourse/Tensorflow/workspace/images/collectedimages/Torn/q_augmented_2.xml\n",
      "Image:/Users/yogi/Documents/Object Detection/TFODCourse/Tensorflow/workspace/images/collectedimages/Torn/r_augmented_0.jpg -> Annotation:/Users/yogi/Documents/Object Detection/TFODCourse/Tensorflow/workspace/images/collectedimages/Torn/r_augmented_0.xml\n",
      "Image:/Users/yogi/Documents/Object Detection/TFODCourse/Tensorflow/workspace/images/collectedimages/Torn/r_augmented_1.jpg -> Annotation:/Users/yogi/Documents/Object Detection/TFODCourse/Tensorflow/workspace/images/collectedimages/Torn/r_augmented_1.xml\n",
      "Image:/Users/yogi/Documents/Object Detection/TFODCourse/Tensorflow/workspace/images/collectedimages/Torn/r_augmented_2.jpg -> Annotation:/Users/yogi/Documents/Object Detection/TFODCourse/Tensorflow/workspace/images/collectedimages/Torn/r_augmented_2.xml\n",
      "Image:/Users/yogi/Documents/Object Detection/TFODCourse/Tensorflow/workspace/images/collectedimages/Torn/s_augmented_0.jpg -> Annotation:/Users/yogi/Documents/Object Detection/TFODCourse/Tensorflow/workspace/images/collectedimages/Torn/s_augmented_0.xml\n",
      "Image:/Users/yogi/Documents/Object Detection/TFODCourse/Tensorflow/workspace/images/collectedimages/Torn/s_augmented_1.jpg -> Annotation:/Users/yogi/Documents/Object Detection/TFODCourse/Tensorflow/workspace/images/collectedimages/Torn/s_augmented_1.xml\n",
      "Image:/Users/yogi/Documents/Object Detection/TFODCourse/Tensorflow/workspace/images/collectedimages/Torn/s_augmented_2.jpg -> Annotation:/Users/yogi/Documents/Object Detection/TFODCourse/Tensorflow/workspace/images/collectedimages/Torn/s_augmented_2.xml\n",
      "Image:/Users/yogi/Documents/Object Detection/TFODCourse/Tensorflow/workspace/images/collectedimages/Torn/t_augmented_0.jpg -> Annotation:/Users/yogi/Documents/Object Detection/TFODCourse/Tensorflow/workspace/images/collectedimages/Torn/t_augmented_0.xml\n",
      "Image:/Users/yogi/Documents/Object Detection/TFODCourse/Tensorflow/workspace/images/collectedimages/Torn/t_augmented_1.jpg -> Annotation:/Users/yogi/Documents/Object Detection/TFODCourse/Tensorflow/workspace/images/collectedimages/Torn/t_augmented_1.xml\n",
      "Image:/Users/yogi/Documents/Object Detection/TFODCourse/Tensorflow/workspace/images/collectedimages/Torn/t_augmented_0.jpg -> Annotation:/Users/yogi/Documents/Object Detection/TFODCourse/Tensorflow/workspace/images/collectedimages/Torn/t_augmented_0.xml\n",
      "Image:/Users/yogi/Documents/Object Detection/TFODCourse/Tensorflow/workspace/images/collectedimages/Torn/t_augmented_1.jpg -> Annotation:/Users/yogi/Documents/Object Detection/TFODCourse/Tensorflow/workspace/images/collectedimages/Torn/t_augmented_1.xml\n",
      "Image:/Users/yogi/Documents/Object Detection/TFODCourse/Tensorflow/workspace/images/collectedimages/Torn/t_augmented_2.jpg -> Annotation:/Users/yogi/Documents/Object Detection/TFODCourse/Tensorflow/workspace/images/collectedimages/Torn/t_augmented_2.xml\n",
      "Image:/Users/yogi/Documents/Object Detection/TFODCourse/Tensorflow/workspace/images/collectedimages/Torn/u_augmented_0.jpg -> Annotation:/Users/yogi/Documents/Object Detection/TFODCourse/Tensorflow/workspace/images/collectedimages/Torn/u_augmented_0.xml\n",
      "Image:/Users/yogi/Documents/Object Detection/TFODCourse/Tensorflow/workspace/images/collectedimages/Torn/u_augmented_0.jpg -> Annotation:/Users/yogi/Documents/Object Detection/TFODCourse/Tensorflow/workspace/images/collectedimages/Torn/u_augmented_0.xml\n",
      "Image:/Users/yogi/Documents/Object Detection/TFODCourse/Tensorflow/workspace/images/collectedimages/Torn/u_augmented_1.jpg -> Annotation:/Users/yogi/Documents/Object Detection/TFODCourse/Tensorflow/workspace/images/collectedimages/Torn/u_augmented_1.xml\n",
      "Image:/Users/yogi/Documents/Object Detection/TFODCourse/Tensorflow/workspace/images/collectedimages/Torn/u_augmented_2.jpg -> Annotation:/Users/yogi/Documents/Object Detection/TFODCourse/Tensorflow/workspace/images/collectedimages/Torn/u_augmented_2.xml\n",
      "Image:/Users/yogi/Documents/Object Detection/TFODCourse/Tensorflow/workspace/images/collectedimages/Torn/v_augmented_0.jpg -> Annotation:/Users/yogi/Documents/Object Detection/TFODCourse/Tensorflow/workspace/images/collectedimages/Torn/v_augmented_0.xml\n",
      "Image:/Users/yogi/Documents/Object Detection/TFODCourse/Tensorflow/workspace/images/collectedimages/Torn/v_augmented_1.jpg -> Annotation:/Users/yogi/Documents/Object Detection/TFODCourse/Tensorflow/workspace/images/collectedimages/Torn/v_augmented_1.xml\n",
      "Image:/Users/yogi/Documents/Object Detection/TFODCourse/Tensorflow/workspace/images/collectedimages/Torn/v_augmented_2.jpg -> Annotation:/Users/yogi/Documents/Object Detection/TFODCourse/Tensorflow/workspace/images/collectedimages/Torn/v_augmented_2.xml\n",
      "Image:/Users/yogi/Documents/Object Detection/TFODCourse/Tensorflow/workspace/images/collectedimages/Torn/w_augmented_0.jpg -> Annotation:/Users/yogi/Documents/Object Detection/TFODCourse/Tensorflow/workspace/images/collectedimages/Torn/w_augmented_0.xml\n",
      "Image:/Users/yogi/Documents/Object Detection/TFODCourse/Tensorflow/workspace/images/collectedimages/Torn/w_augmented_1.jpg -> Annotation:/Users/yogi/Documents/Object Detection/TFODCourse/Tensorflow/workspace/images/collectedimages/Torn/w_augmented_1.xml\n",
      "Image:/Users/yogi/Documents/Object Detection/TFODCourse/Tensorflow/workspace/images/collectedimages/Torn/w_augmented_2.jpg -> Annotation:/Users/yogi/Documents/Object Detection/TFODCourse/Tensorflow/workspace/images/collectedimages/Torn/w_augmented_2.xml\n",
      "Image:/Users/yogi/Documents/Object Detection/TFODCourse/Tensorflow/workspace/images/collectedimages/Torn/x_augmented_0.jpg -> Annotation:/Users/yogi/Documents/Object Detection/TFODCourse/Tensorflow/workspace/images/collectedimages/Torn/x_augmented_0.xml\n",
      "Image:/Users/yogi/Documents/Object Detection/TFODCourse/Tensorflow/workspace/images/collectedimages/Torn/x_augmented_0.jpg -> Annotation:/Users/yogi/Documents/Object Detection/TFODCourse/Tensorflow/workspace/images/collectedimages/Torn/x_augmented_0.xml\n",
      "Image:/Users/yogi/Documents/Object Detection/TFODCourse/Tensorflow/workspace/images/collectedimages/Torn/x_augmented_1.jpg -> Annotation:/Users/yogi/Documents/Object Detection/TFODCourse/Tensorflow/workspace/images/collectedimages/Torn/x_augmented_1.xml\n",
      "Image:/Users/yogi/Documents/Object Detection/TFODCourse/Tensorflow/workspace/images/collectedimages/Torn/x_augmented_2.jpg -> Annotation:/Users/yogi/Documents/Object Detection/TFODCourse/Tensorflow/workspace/images/collectedimages/Torn/x_augmented_2.xml\n",
      "Image:/Users/yogi/Documents/Object Detection/TFODCourse/Tensorflow/workspace/images/collectedimages/Torn/y_augmented_0.jpg -> Annotation:/Users/yogi/Documents/Object Detection/TFODCourse/Tensorflow/workspace/images/collectedimages/Torn/y_augmented_0.xml\n",
      "Image:/Users/yogi/Documents/Object Detection/TFODCourse/Tensorflow/workspace/images/collectedimages/Torn/y_augmented_1.jpg -> Annotation:/Users/yogi/Documents/Object Detection/TFODCourse/Tensorflow/workspace/images/collectedimages/Torn/y_augmented_1.xml\n",
      "Image:/Users/yogi/Documents/Object Detection/TFODCourse/Tensorflow/workspace/images/collectedimages/Torn/y_augmented_1.jpg -> Annotation:/Users/yogi/Documents/Object Detection/TFODCourse/Tensorflow/workspace/images/collectedimages/Torn/y_augmented_1.xml\n",
      "Image:/Users/yogi/Documents/Object Detection/TFODCourse/Tensorflow/workspace/images/collectedimages/Torn/y_augmented_2.jpg -> Annotation:/Users/yogi/Documents/Object Detection/TFODCourse/Tensorflow/workspace/images/collectedimages/Torn/y_augmented_2.xml\n"
     ]
    },
    {
     "name": "stdout",
     "output_type": "stream",
     "text": [
      "Image:/Users/yogi/Documents/Object Detection/TFODCourse/Tensorflow/workspace/images/collectedimages/Torn/z_augmented_0.jpg -> Annotation:/Users/yogi/Documents/Object Detection/TFODCourse/Tensorflow/workspace/images/collectedimages/Torn/z_augmented_0.xml\n",
      "Cancel creation.\n",
      "Image:/Users/yogi/Documents/Object Detection/TFODCourse/Tensorflow/workspace/images/collectedimages/Torn/z_augmented_1.jpg -> Annotation:/Users/yogi/Documents/Object Detection/TFODCourse/Tensorflow/workspace/images/collectedimages/Torn/z_augmented_1.xml\n",
      "Image:/Users/yogi/Documents/Object Detection/TFODCourse/Tensorflow/workspace/images/collectedimages/Torn/z_augmented_2.jpg -> Annotation:/Users/yogi/Documents/Object Detection/TFODCourse/Tensorflow/workspace/images/collectedimages/Torn/z_augmented_2.xml\n",
      "Image:/Users/yogi/Documents/Object Detection/TFODCourse/Tensorflow/workspace/images/collectedimages/Torn/z_augmented_2.jpg -> Annotation:/Users/yogi/Documents/Object Detection/TFODCourse/Tensorflow/workspace/images/collectedimages/Torn/z_augmented_2.xml\n"
     ]
    }
   ],
   "source": [
    "!cd {LABELIMG_PATH} && python3 labelImg.py"
   ]
  },
  {
   "cell_type": "markdown",
   "metadata": {},
   "source": [
    "# 6. Move them into a Training and Testing Partition"
   ]
  },
  {
   "cell_type": "markdown",
   "metadata": {},
   "source": [
    "# OPTIONAL - 7. Compress them for Colab Training"
   ]
  },
  {
   "cell_type": "code",
   "execution_count": 20,
   "metadata": {},
   "outputs": [],
   "source": [
    "TRAIN_PATH = os.path.join('Tensorflow', 'workspace', 'images', 'train')\n",
    "TEST_PATH = os.path.join('Tensorflow', 'workspace', 'images', 'test')\n",
    "ARCHIVE_PATH = os.path.join('Tensorflow', 'workspace', 'images', 'archive.tar.gz')"
   ]
  },
  {
   "cell_type": "code",
   "execution_count": 21,
   "metadata": {},
   "outputs": [],
   "source": [
    "!tar -czf {ARCHIVE_PATH} {TRAIN_PATH} {TEST_PATH}"
   ]
  },
  {
   "cell_type": "code",
   "execution_count": null,
   "metadata": {},
   "outputs": [],
   "source": []
  }
 ],
 "metadata": {
  "kernelspec": {
   "display_name": "tfod",
   "language": "python",
   "name": "tfod"
  },
  "language_info": {
   "codemirror_mode": {
    "name": "ipython",
    "version": 3
   },
   "file_extension": ".py",
   "mimetype": "text/x-python",
   "name": "python",
   "nbconvert_exporter": "python",
   "pygments_lexer": "ipython3",
   "version": "3.10.12"
  }
 },
 "nbformat": 4,
 "nbformat_minor": 2
}
